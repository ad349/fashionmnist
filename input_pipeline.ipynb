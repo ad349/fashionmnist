{
 "cells": [
  {
   "cell_type": "code",
   "execution_count": 1,
   "metadata": {
    "collapsed": true,
    "deletable": true,
    "editable": true
   },
   "outputs": [],
   "source": [
    "import sys\n",
    "import numpy as np\n",
    "import tensorflow as tf\n",
    "import argparse\n",
    "from utils import splitter, normalize\n",
    "from model import graph"
   ]
  },
  {
   "cell_type": "code",
   "execution_count": 2,
   "metadata": {
    "collapsed": true,
    "deletable": true,
    "editable": true
   },
   "outputs": [],
   "source": [
    "trainpath = './fashionmnist/training2.csv'\n",
    "validationpath = './fashionmnist/validation.csv'"
   ]
  },
  {
   "cell_type": "code",
   "execution_count": 3,
   "metadata": {
    "collapsed": true,
    "deletable": true,
    "editable": true
   },
   "outputs": [],
   "source": [
    "default_values = [[0.0] for _ in range(785)]"
   ]
  },
  {
   "cell_type": "code",
   "execution_count": 4,
   "metadata": {
    "collapsed": true,
    "deletable": true,
    "editable": true
   },
   "outputs": [],
   "source": [
    "def decode(line, default_values=default_values):\n",
    "    item = tf.decode_csv(line, default_values)\n",
    "    return item[0], item[1:]"
   ]
  },
  {
   "cell_type": "code",
   "execution_count": 5,
   "metadata": {
    "collapsed": false,
    "deletable": true,
    "editable": true
   },
   "outputs": [],
   "source": [
    "training_dataset = tf.data.TextLineDataset(trainpath).skip(1).filter(lambda line: tf.not_equal(tf.substr(line, 0, 1), \"#\"))\n",
    "validation_dataset = tf.data.TextLineDataset(validationpath).skip(1).filter(lambda line: tf.not_equal(tf.substr(line, 0, 1), \"#\"))"
   ]
  },
  {
   "cell_type": "code",
   "execution_count": 6,
   "metadata": {
    "collapsed": true,
    "deletable": true,
    "editable": true
   },
   "outputs": [],
   "source": [
    "training_dataset = (training_dataset.cache().map(decode))"
   ]
  },
  {
   "cell_type": "code",
   "execution_count": 7,
   "metadata": {
    "collapsed": true,
    "deletable": true,
    "editable": true
   },
   "outputs": [],
   "source": [
    "# training_dataset = training_dataset.map(lambda x: tf.py_func(splitter, [x], [tf.float32, tf.float32]))\n",
    "# validation_dataset = validation_dataset.map(lambda x: tf.py_func(splitter, [x], [tf.float32, tf.float32]))"
   ]
  },
  {
   "cell_type": "code",
   "execution_count": 8,
   "metadata": {
    "collapsed": true,
    "deletable": true,
    "editable": true
   },
   "outputs": [],
   "source": [
    "training_dataset = training_dataset.map(lambda label, pixel: tf.py_func(normalize, [label, pixel], [tf.float32, tf.float32]))"
   ]
  },
  {
   "cell_type": "code",
   "execution_count": 11,
   "metadata": {
    "collapsed": true,
    "deletable": true,
    "editable": true
   },
   "outputs": [],
   "source": [
    "training_dataset = training_dataset.shuffle(buffer_size=10000)"
   ]
  },
  {
   "cell_type": "code",
   "execution_count": 9,
   "metadata": {
    "collapsed": true,
    "deletable": true,
    "editable": true
   },
   "outputs": [],
   "source": [
    "training_dataset = training_dataset.batch(10)\n",
    "validation_dataset = validation_dataset.batch(100)"
   ]
  },
  {
   "cell_type": "code",
   "execution_count": 10,
   "metadata": {
    "collapsed": true,
    "deletable": true,
    "editable": true
   },
   "outputs": [],
   "source": [
    "# A feedable iterator is defined by a handle placeholder and its structure. We\n",
    "# could use the `output_types` and `output_shapes` properties of either\n",
    "# `training_dataset` or `validation_dataset` here, because they have\n",
    "# identical structure.\n",
    "handle = tf.placeholder(tf.string, shape=[])\n",
    "iterator = tf.data.Iterator.from_string_handle(\n",
    "    handle, training_dataset.output_types, training_dataset.output_shapes)\n",
    "next_element = iterator.get_next()"
   ]
  },
  {
   "cell_type": "code",
   "execution_count": 11,
   "metadata": {
    "collapsed": false,
    "deletable": true,
    "editable": true
   },
   "outputs": [
    {
     "data": {
      "text/plain": [
       "(TensorShape(None), TensorShape(None))"
      ]
     },
     "execution_count": 11,
     "metadata": {},
     "output_type": "execute_result"
    }
   ],
   "source": [
    "training_dataset.output_shapes"
   ]
  },
  {
   "cell_type": "code",
   "execution_count": 12,
   "metadata": {
    "collapsed": true,
    "deletable": true,
    "editable": true
   },
   "outputs": [],
   "source": [
    "# You can use feedable iterators with a variety of different kinds of iterator\n",
    "# (such as one-shot and initializable iterators).\n",
    "training_iterator = training_dataset.make_initializable_iterator()\n",
    "validation_iterator = validation_dataset.make_initializable_iterator()"
   ]
  },
  {
   "cell_type": "code",
   "execution_count": 13,
   "metadata": {
    "collapsed": false,
    "deletable": true,
    "editable": true
   },
   "outputs": [
    {
     "name": "stdout",
     "output_type": "stream",
     "text": [
      "[ 2.  3.  7.  0.  1.  5.  9.  7.  8.  4.]\n",
      "[ 5.  2.  8.  1.  9.  1.  6.  8.  5.  3.]\n",
      "[ 9.  3.  6.  3.  9.  5.  7.  7.  5.  0.]\n",
      "[ 0.  0.  9.  4.  9.  2.  2.  6.  5.  8.]\n",
      "[ 1.  6.  4.  2.  2.  7.  9.  2.  1.  3.]\n",
      "[ 4.  5.  9.  2.  3.  8.  8.  6.  5.  5.]\n",
      "[ 4.  5.  6.  1.  4.  7.  2.  7.  1.  5.]\n",
      "[ 6.  2.  5.  2.  3.  0.  8.  4.  3.  9.]\n",
      "[ 9.  9.  8.  9.  3.  4.  3.  2.  0.  5.]\n",
      "[ 7.  3.  7.  7.  0.  6.  1.  0.  1.  9.]\n",
      "[ 0.  7.  3.  0.  4.  2.  8.  9.  3.  8.]\n",
      "[ 6.  1.  0.  9.  9.  2.  0.  2.  3.  4.]\n",
      "[ 2.  9.  7.  0.  1.  8.  8.  1.  7.  8.]\n",
      "[ 2.  5.  6.  1.  3.  6.  6.  7.  0.  0.]\n",
      "[ 1.  4.  5.  8.  5.  8.  3.  9.  6.  8.]\n",
      "[ 6.  7.  7.  2.  9.  1.  5.  2.  2.  0.]\n",
      "[ 6.  0.  3.  9.  4.  9.  0.  0.  0.  4.]\n",
      "[ 5.  5.  1.  4.  0.  9.  0.  2.  5.  7.]\n",
      "[ 2.  1.  9.  1.  5.  4.  5.  3.  9.  6.]\n",
      "[ 6.  1.  3.  1.  6.  3.  4.  2.  6.  5.]\n",
      "[ 4.  0.  2.  1.  8.  9.  7.  8.  4.  6.]\n",
      "[ 5.  7.  1.  5.  1.  5.  6.  5.  7.  3.]\n",
      "[ 8.  8.  3.  7.  1.  5.  5.  4.  6.  3.]\n",
      "[ 5.  3.  6.  4.  7.  1.  0.  3.  6.  7.]\n",
      "[ 6.  9.  8.  4.  2.  7.  6.  1.  6.  6.]\n",
      "[ 4.  6.  3.  3.  8.  1.  9.  7.  7.  9.]\n",
      "[ 1.  7.  8.  9.  2.  1.  7.  4.  3.  3.]\n",
      "[ 6.  2.  8.  5.  7.  7.  5.  3.  4.  6.]\n",
      "[ 9.  8.  7.  7.  0.  4.  1.  5.  0.  0.]\n",
      "[ 3.  3.  0.  7.  2.  3.  3.  1.  6.  6.]\n",
      "[ 8.  0.  8.  9.  6.  5.  8.  8.  7.  7.]\n",
      "[ 4.  9.  9.  6.  7.  6.  9.  6.  6.  6.]\n",
      "[ 4.  8.  6.  1.  6.  0.  2.  7.  7.  1.]\n",
      "[ 4.  2.  6.  4.  7.  0.  7.  7.  1.  5.]\n",
      "[ 2.  5.  0.  0.  2.  3.  2.  9.  6.  6.]\n",
      "[ 4.  0.  0.  6.  1.  0.  0.  3.  0.  6.]\n",
      "[ 4.  8.  6.  9.  4.  3.  6.  0.  9.  9.]\n",
      "[ 6.  0.  6.  7.  1.  8.  6.  3.  4.  2.]\n",
      "[ 9.  6.  0.  4.  1.  5.  8.  2.  0.  7.]\n",
      "[ 9.  3.  7.  7.  9.  0.  8.  6.  0.  2.]\n",
      "[ 0.  5.  5.  6.  0.  9.  7.  8.  8.  3.]\n",
      "[ 1.  7.  6.  9.  3.  1.  8.  1.  3.  9.]\n",
      "[ 8.  0.  3.  2.  3.  3.  7.  2.  3.  2.]\n",
      "[ 6.  5.  0.  2.  0.  0.  0.  6.  7.  5.]\n",
      "[ 3.  8.  3.  2.  9.  2.  3.  0.  2.  0.]\n",
      "[ 1.  6.  4.  2.  2.  3.  9.  5.  3.  3.]\n",
      "[ 7.  1.  7.  5.  4.  0.  8.  7.  1.  8.]\n",
      "[ 5.  2.  1.  6.  3.  3.  7.  6.  5.  8.]\n",
      "[ 8.  0.  1.  4.  5.  1.  1.  0.  6.  7.]\n",
      "[ 9.  0.  8.  4.  4.  9.  6.  7.  5.  4.]\n",
      "[ 5.  8.  5.  3.  8.  7.  8.  7.  4.  6.]\n",
      "[ 3.  0.  7.  6.  3.  1.  7.  0.  7.  2.]\n",
      "[ 3.  5.  2.  4.  2.  5.  9.  6.  0.  6.]\n",
      "[ 1.  0.  7.  3.  5.  9.  6.  4.  4.  2.]\n",
      "[ 9.  3.  1.  5.  3.  5.  2.  7.  1.  4.]\n",
      "[ 2.  0.  9.  8.  5.  5.  3.  7.  6.  8.]\n",
      "[ 0.  7.  1.  6.  9.  9.  7.  0.  7.  2.]\n",
      "[ 7.  8.  2.  3.  8.  3.  2.  6.  9.  3.]\n",
      "[ 5.  0.  8.  0.  3.  2.  3.  5.  5.  5.]\n",
      "[ 8.  8.  6.  0.  7.  8.  9.  5.  3.  8.]\n",
      "[ 0.  8.  4.  7.  8.  9.  5.  8.  3.  1.]\n",
      "[ 1.  2.  7.  8.  7.  7.  5.  0.  6.  1.]\n",
      "[ 9.  6.  4.  5.  2.  8.  9.  3.  0.  4.]\n",
      "[ 3.  7.  3.  3.  6.  5.  1.  8.  1.  8.]\n",
      "[ 9.  0.  3.  0.  7.  6.  5.  2.  5.  4.]\n",
      "[ 2.  2.  8.  7.  8.  8.  2.  8.  8.  2.]\n",
      "[ 5.  3.  4.  9.  9.  9.  4.  2.  7.  9.]\n",
      "[ 8.  0.  0.  1.  0.  1.  5.  7.  2.  7.]\n",
      "[ 7.  1.  1.  4.  6.  9.  9.  1.  9.  0.]\n",
      "[ 5.  5.  5.  6.  0.  1.  8.  1.  9.  8.]\n",
      "[ 4.  8.  5.  1.  9.  9.  4.  4.  2.  8.]\n",
      "[ 0.  7.  9.  1.  8.  0.  3.  0.  6.  8.]\n",
      "[ 6.  6.  8.  6.  3.  3.  7.  2.  7.  3.]\n",
      "[ 4.  3.  0.  6.  9.  5.  9.  4.  0.  4.]\n",
      "[ 2.  0.  2.  5.  1.  8.  3.  1.  3.  8.]\n",
      "[ 2.  1.  6.  1.  5.  9.  2.  9.  6.  3.]\n",
      "[ 5.  7.  3.  4.  4.  5.  8.  9.  2.  7.]\n",
      "[ 7.  3.  8.  6.  2.  3.  1.  9.  7.  6.]\n",
      "[ 9.  8.  2.  4.  8.  3.  1.  9.  5.  3.]\n",
      "[ 2.  1.  2.  9.  1.  6.  0.  2.  5.  8.]\n",
      "[ 2.  4.  1.  9.  6.  8.  5.  9.  6.  8.]\n",
      "[ 8.  5.  0.  1.  6.  6.  8.  2.  2.  1.]\n",
      "[ 1.  8.  9.  6.  7.  1.  3.  0.  9.  0.]\n",
      "[ 6.  3.  2.  9.  5.  3.  4.  1.  7.  9.]\n",
      "[ 2.  0.  5.  5.  6.  3.  8.  9.  4.  4.]\n",
      "[ 0.  4.  6.  5.  2.  1.  8.  8.  2.  6.]\n",
      "[ 5.  7.  0.  3.  6.  9.  8.  5.  5.  4.]\n",
      "[ 4.  4.  7.  1.  4.  4.  1.  0.  3.  3.]\n",
      "[ 1.  8.  3.  8.  6.  3.  1.  1.  3.  7.]\n",
      "[ 0.  7.  0.  3.  6.  2.  1.  4.  9.  9.]\n",
      "[ 2.  5.  6.  5.  7.  8.  0.  2.  8.  3.]\n",
      "[ 5.  0.  3.  4.  1.  5.  7.  7.  4.  3.]\n",
      "[ 5.  7.  5.  7.  3.  9.  8.  5.  7.  6.]\n",
      "[ 8.  4.  7.  7.  1.  3.  8.  5.  1.  7.]\n",
      "[ 6.  1.  1.  3.  5.  5.  4.  9.  1.  1.]\n",
      "[ 0.  3.  3.  8.  8.  7.  2.  8.  1.  4.]\n",
      "[ 8.  1.  5.  4.  1.  6.  4.  4.  2.  5.]\n",
      "[ 6.  8.  5.  4.  2.  8.  3.  2.  5.  1.]\n",
      "[ 8.  7.  0.  7.  0.  2.  4.  8.  1.  0.]\n",
      "[ 1.  4.  1.  6.  0.  0.  7.  0.  4.  1.]\n",
      "[ 8.  7.  9.  4.  7.  2.  2.  0.  2.  1.]\n",
      "[ 5.  8.  9.  2.  2.  1.  4.  9.  1.  6.]\n",
      "[ 3.  8.  0.  5.  7.  1.  3.  6.  4.  9.]\n",
      "[ 0.  9.  7.  5.  3.  7.  6.  1.  1.  0.]\n",
      "[ 0.  7.  3.  6.  7.  7.  1.  2.  1.  2.]\n",
      "[ 2.  7.  5.  4.  7.  5.  1.  2.  2.  8.]\n",
      "[ 9.  8.  9.  1.  6.  1.  1.  5.  6.  5.]\n",
      "[ 5.  4.  5.  3.  3.  5.  6.  5.  7.  6.]\n",
      "[ 0.  4.  0.  9.  0.  3.  9.  7.  6.  6.]\n",
      "[ 6.  8.  6.  1.  8.  3.  0.  6.  9.  1.]\n",
      "[ 7.  5.  5.  2.  0.  6.  5.  8.  4.  4.]\n",
      "[ 9.  9.  1.  6.  8.  2.  9.  4.  9.  3.]\n",
      "[ 9.  7.  9.  1.  4.  7.  6.  3.  0.  7.]\n",
      "[ 9.  1.  6.  5.  3.  9.  2.  8.  9.  4.]\n",
      "[ 3.  1.  4.  2.  7.  0.  4.  7.  9.  6.]\n",
      "[ 7.  1.  2.  1.  6.  0.  6.  3.  7.  8.]\n",
      "[ 7.  3.  1.  3.  6.  8.  1.  6.  3.  0.]\n",
      "[ 8.  4.  4.  2.  7.  7.  4.  9.  5.  2.]\n",
      "[ 8.  0.  0.  0.  2.  7.  4.  7.  9.  8.]\n",
      "[ 3.  8.  8.  4.  4.  2.  7.  9.  2.  3.]\n",
      "[ 3.  4.  0.  8.  9.  9.  0.  0.  8.  3.]\n",
      "[ 3.  6.  3.  5.  6.  4.  8.  4.  6.  8.]\n",
      "[ 3.  3.  1.  4.  1.  0.  1.  6.  5.  2.]\n",
      "[ 7.  0.  7.  7.  5.  6.  8.  9.  1.  5.]\n",
      "[ 7.  4.  2.  6.  8.  0.  0.  2.  6.  9.]\n",
      "[ 9.  0.  8.  0.  9.  1.  5.  5.  9.  2.]\n",
      "[ 5.  7.  3.  3.  5.  8.  1.  4.  9.  4.]\n",
      "[ 7.  4.  0.  8.  6.  0.  0.  7.  4.  9.]\n",
      "[ 9.  2.  8.  0.  2.  9.  9.  0.  8.  6.]\n",
      "[ 2.  2.  3.  4.  2.  9.  6.  3.  8.  8.]\n",
      "[ 1.  7.  1.  0.  6.  4.  4.  2.  8.  6.]\n",
      "[ 0.  7.  3.  7.  7.  1.  0.  0.  1.  0.]\n",
      "[ 4.  0.  6.  4.  4.  9.  6.  4.  2.  6.]\n",
      "[ 3.  5.  2.  1.  8.  2.  9.  6.  1.  6.]\n",
      "[ 0.  3.  4.  0.  5.  7.  1.  5.  0.  1.]\n",
      "[ 3.  2.  1.  7.  1.  5.  4.  2.  1.  5.]\n",
      "[ 3.  5.  7.  0.  2.  3.  7.  0.  6.  7.]\n",
      "[ 9.  6.  1.  7.  5.  0.  0.  9.  3.  8.]\n",
      "[ 8.  4.  4.  3.  7.  1.  7.  4.  6.  8.]\n",
      "[ 3.  4.  5.  0.  2.  7.  0.  6.  2.  5.]\n",
      "[ 3.  1.  7.  8.  4.  5.  6.  0.  0.  2.]\n",
      "[ 4.  7.  0.  7.  4.  2.  5.  9.  0.  8.]\n",
      "[ 8.  0.  2.  3.  6.  8.  8.  8.  8.  9.]\n",
      "[ 3.  2.  3.  8.  9.  8.  3.  1.  0.  2.]\n",
      "[ 2.  0.  7.  1.  5.  3.  4.  1.  3.  1.]\n",
      "[ 6.  0.  2.  6.  7.  1.  1.  3.  6.  4.]\n",
      "[ 4.  7.  4.  6.  4.  2.  0.  0.  8.  3.]\n",
      "[ 3.  8.  1.  3.  4.  6.  4.  2.  6.  1.]\n",
      "[ 6.  7.  8.  5.  9.  6.  9.  8.  7.  6.]\n",
      "[ 9.  1.  4.  3.  9.  5.  0.  4.  0.  6.]\n",
      "[ 1.  3.  6.  9.  6.  9.  7.  6.  7.  4.]\n",
      "[ 7.  1.  3.  5.  1.  6.  1.  0.  1.  4.]\n",
      "[ 9.  3.  7.  1.  6.  1.  5.  4.  1.  5.]\n",
      "[ 9.  4.  3.  8.  0.  2.  9.  7.  5.  4.]\n",
      "[ 4.  7.  1.  7.  5.  9.  4.  4.  7.  8.]\n",
      "[ 5.  4.  4.  5.  9.  0.  3.  2.  8.  7.]\n",
      "[ 1.  4.  6.  0.  2.  2.  9.  6.  1.  3.]\n",
      "[ 0.  2.  7.  5.  0.  6.  5.  1.  0.  3.]\n",
      "[ 0.  6.  5.  9.  2.  2.  9.  2.  4.  7.]\n",
      "[ 1.  3.  8.  7.  0.  2.  9.  0.  4.  9.]\n",
      "[ 4.  3.  3.  2.  0.  9.  7.  4.  5.  3.]\n",
      "[ 2.  3.  2.  4.  0.  8.  1.  0.  9.  6.]\n",
      "[ 6.  4.  7.  2.  0.  6.  6.  4.  4.  6.]\n",
      "[ 8.  8.  3.  9.  7.  3.  7.  3.  0.  6.]\n",
      "[ 3.  9.  6.  4.  8.  0.  8.  9.  5.  7.]\n",
      "[ 3.  4.  0.  2.  3.  4.  8.  8.  6.  6.]\n",
      "[ 7.  9.  2.  6.  2.  5.  4.  6.  7.  8.]\n",
      "[ 5.  8.  2.  2.  2.  2.  4.  2.  8.  4.]\n",
      "[ 1.  5.  2.  7.  6.  5.  1.  2.  9.  8.]\n",
      "[ 9.  5.  0.  3.  6.  1.  8.  9.  8.  5.]\n",
      "[ 0.  1.  4.  8.  4.  4.  6.  5.  3.  3.]\n",
      "[ 1.  5.  3.  0.  5.  5.  1.  2.  4.  8.]\n",
      "[ 2.  5.  7.  0.  7.  8.  1.  6.  5.  2.]\n",
      "[ 6.  4.  3.  9.  5.  3.  6.  9.  9.  4.]\n",
      "[ 2.  6.  8.  2.  3.  2.  6.  7.  9.  7.]\n",
      "[ 7.  2.  8.  4.  3.  8.  2.  6.  0.  1.]\n",
      "[ 6.  0.  8.  4.  4.  4.  8.  2.  9.  3.]\n",
      "[ 2.  2.  4.  6.  6.  4.  9.  0.  5.  0.]\n",
      "[ 8.  6.  9.  3.  3.  2.  9.  5.  4.  4.]\n",
      "[ 1.  6.  3.  8.  4.  8.  2.  4.  5.  9.]\n",
      "[ 9.  1.  1.  2.  7.  6.  5.  3.  7.  9.]\n"
     ]
    },
    {
     "ename": "KeyboardInterrupt",
     "evalue": "",
     "output_type": "error",
     "traceback": [
      "\u001b[0;31m---------------------------------------------------------------------------\u001b[0m",
      "\u001b[0;31mKeyboardInterrupt\u001b[0m                         Traceback (most recent call last)",
      "\u001b[0;32m<ipython-input-13-15220a2eaa4c>\u001b[0m in \u001b[0;36m<module>\u001b[0;34m()\u001b[0m\n\u001b[1;32m      9\u001b[0m         \u001b[0;32mwhile\u001b[0m \u001b[0mTrue\u001b[0m\u001b[0;34m:\u001b[0m\u001b[0;34m\u001b[0m\u001b[0m\n\u001b[1;32m     10\u001b[0m             \u001b[0;32mtry\u001b[0m\u001b[0;34m:\u001b[0m\u001b[0;34m\u001b[0m\u001b[0m\n\u001b[0;32m---> 11\u001b[0;31m                 \u001b[0mlabel_batch\u001b[0m\u001b[0;34m,\u001b[0m \u001b[0mimage_batch\u001b[0m \u001b[0;34m=\u001b[0m \u001b[0msess\u001b[0m\u001b[0;34m.\u001b[0m\u001b[0mrun\u001b[0m\u001b[0;34m(\u001b[0m\u001b[0mnext_element\u001b[0m\u001b[0;34m,\u001b[0m \u001b[0mfeed_dict\u001b[0m\u001b[0;34m=\u001b[0m\u001b[0;34m{\u001b[0m\u001b[0mhandle\u001b[0m\u001b[0;34m:\u001b[0m \u001b[0mtraining_handle\u001b[0m\u001b[0;34m}\u001b[0m\u001b[0;34m)\u001b[0m\u001b[0;34m\u001b[0m\u001b[0m\n\u001b[0m\u001b[1;32m     12\u001b[0m                 \u001b[0;32mprint\u001b[0m\u001b[0;34m(\u001b[0m\u001b[0mlabel_batch\u001b[0m\u001b[0;34m)\u001b[0m\u001b[0;34m\u001b[0m\u001b[0m\n\u001b[1;32m     13\u001b[0m             \u001b[0;32mexcept\u001b[0m \u001b[0mtf\u001b[0m\u001b[0;34m.\u001b[0m\u001b[0merrors\u001b[0m\u001b[0;34m.\u001b[0m\u001b[0mOutOfRangeError\u001b[0m\u001b[0;34m:\u001b[0m\u001b[0;34m\u001b[0m\u001b[0m\n",
      "\u001b[0;32m/home/abhishek/anaconda3/envs/mygithub/lib/python2.7/site-packages/tensorflow/python/client/session.pyc\u001b[0m in \u001b[0;36mrun\u001b[0;34m(self, fetches, feed_dict, options, run_metadata)\u001b[0m\n\u001b[1;32m    887\u001b[0m     \u001b[0;32mtry\u001b[0m\u001b[0;34m:\u001b[0m\u001b[0;34m\u001b[0m\u001b[0m\n\u001b[1;32m    888\u001b[0m       result = self._run(None, fetches, feed_dict, options_ptr,\n\u001b[0;32m--> 889\u001b[0;31m                          run_metadata_ptr)\n\u001b[0m\u001b[1;32m    890\u001b[0m       \u001b[0;32mif\u001b[0m \u001b[0mrun_metadata\u001b[0m\u001b[0;34m:\u001b[0m\u001b[0;34m\u001b[0m\u001b[0m\n\u001b[1;32m    891\u001b[0m         \u001b[0mproto_data\u001b[0m \u001b[0;34m=\u001b[0m \u001b[0mtf_session\u001b[0m\u001b[0;34m.\u001b[0m\u001b[0mTF_GetBuffer\u001b[0m\u001b[0;34m(\u001b[0m\u001b[0mrun_metadata_ptr\u001b[0m\u001b[0;34m)\u001b[0m\u001b[0;34m\u001b[0m\u001b[0m\n",
      "\u001b[0;32m/home/abhishek/anaconda3/envs/mygithub/lib/python2.7/site-packages/tensorflow/python/client/session.pyc\u001b[0m in \u001b[0;36m_run\u001b[0;34m(self, handle, fetches, feed_dict, options, run_metadata)\u001b[0m\n\u001b[1;32m   1118\u001b[0m     \u001b[0;32mif\u001b[0m \u001b[0mfinal_fetches\u001b[0m \u001b[0;32mor\u001b[0m \u001b[0mfinal_targets\u001b[0m \u001b[0;32mor\u001b[0m \u001b[0;34m(\u001b[0m\u001b[0mhandle\u001b[0m \u001b[0;32mand\u001b[0m \u001b[0mfeed_dict_tensor\u001b[0m\u001b[0;34m)\u001b[0m\u001b[0;34m:\u001b[0m\u001b[0;34m\u001b[0m\u001b[0m\n\u001b[1;32m   1119\u001b[0m       results = self._do_run(handle, final_targets, final_fetches,\n\u001b[0;32m-> 1120\u001b[0;31m                              feed_dict_tensor, options, run_metadata)\n\u001b[0m\u001b[1;32m   1121\u001b[0m     \u001b[0;32melse\u001b[0m\u001b[0;34m:\u001b[0m\u001b[0;34m\u001b[0m\u001b[0m\n\u001b[1;32m   1122\u001b[0m       \u001b[0mresults\u001b[0m \u001b[0;34m=\u001b[0m \u001b[0;34m[\u001b[0m\u001b[0;34m]\u001b[0m\u001b[0;34m\u001b[0m\u001b[0m\n",
      "\u001b[0;32m/home/abhishek/anaconda3/envs/mygithub/lib/python2.7/site-packages/tensorflow/python/client/session.pyc\u001b[0m in \u001b[0;36m_do_run\u001b[0;34m(self, handle, target_list, fetch_list, feed_dict, options, run_metadata)\u001b[0m\n\u001b[1;32m   1315\u001b[0m     \u001b[0;32mif\u001b[0m \u001b[0mhandle\u001b[0m \u001b[0;32mis\u001b[0m \u001b[0mNone\u001b[0m\u001b[0;34m:\u001b[0m\u001b[0;34m\u001b[0m\u001b[0m\n\u001b[1;32m   1316\u001b[0m       return self._do_call(_run_fn, self._session, feeds, fetches, targets,\n\u001b[0;32m-> 1317\u001b[0;31m                            options, run_metadata)\n\u001b[0m\u001b[1;32m   1318\u001b[0m     \u001b[0;32melse\u001b[0m\u001b[0;34m:\u001b[0m\u001b[0;34m\u001b[0m\u001b[0m\n\u001b[1;32m   1319\u001b[0m       \u001b[0;32mreturn\u001b[0m \u001b[0mself\u001b[0m\u001b[0;34m.\u001b[0m\u001b[0m_do_call\u001b[0m\u001b[0;34m(\u001b[0m\u001b[0m_prun_fn\u001b[0m\u001b[0;34m,\u001b[0m \u001b[0mself\u001b[0m\u001b[0;34m.\u001b[0m\u001b[0m_session\u001b[0m\u001b[0;34m,\u001b[0m \u001b[0mhandle\u001b[0m\u001b[0;34m,\u001b[0m \u001b[0mfeeds\u001b[0m\u001b[0;34m,\u001b[0m \u001b[0mfetches\u001b[0m\u001b[0;34m)\u001b[0m\u001b[0;34m\u001b[0m\u001b[0m\n",
      "\u001b[0;32m/home/abhishek/anaconda3/envs/mygithub/lib/python2.7/site-packages/tensorflow/python/client/session.pyc\u001b[0m in \u001b[0;36m_do_call\u001b[0;34m(self, fn, *args)\u001b[0m\n\u001b[1;32m   1321\u001b[0m   \u001b[0;32mdef\u001b[0m \u001b[0m_do_call\u001b[0m\u001b[0;34m(\u001b[0m\u001b[0mself\u001b[0m\u001b[0;34m,\u001b[0m \u001b[0mfn\u001b[0m\u001b[0;34m,\u001b[0m \u001b[0;34m*\u001b[0m\u001b[0margs\u001b[0m\u001b[0;34m)\u001b[0m\u001b[0;34m:\u001b[0m\u001b[0;34m\u001b[0m\u001b[0m\n\u001b[1;32m   1322\u001b[0m     \u001b[0;32mtry\u001b[0m\u001b[0;34m:\u001b[0m\u001b[0;34m\u001b[0m\u001b[0m\n\u001b[0;32m-> 1323\u001b[0;31m       \u001b[0;32mreturn\u001b[0m \u001b[0mfn\u001b[0m\u001b[0;34m(\u001b[0m\u001b[0;34m*\u001b[0m\u001b[0margs\u001b[0m\u001b[0;34m)\u001b[0m\u001b[0;34m\u001b[0m\u001b[0m\n\u001b[0m\u001b[1;32m   1324\u001b[0m     \u001b[0;32mexcept\u001b[0m \u001b[0merrors\u001b[0m\u001b[0;34m.\u001b[0m\u001b[0mOpError\u001b[0m \u001b[0;32mas\u001b[0m \u001b[0me\u001b[0m\u001b[0;34m:\u001b[0m\u001b[0;34m\u001b[0m\u001b[0m\n\u001b[1;32m   1325\u001b[0m       \u001b[0mmessage\u001b[0m \u001b[0;34m=\u001b[0m \u001b[0mcompat\u001b[0m\u001b[0;34m.\u001b[0m\u001b[0mas_text\u001b[0m\u001b[0;34m(\u001b[0m\u001b[0me\u001b[0m\u001b[0;34m.\u001b[0m\u001b[0mmessage\u001b[0m\u001b[0;34m)\u001b[0m\u001b[0;34m\u001b[0m\u001b[0m\n",
      "\u001b[0;32m/home/abhishek/anaconda3/envs/mygithub/lib/python2.7/site-packages/tensorflow/python/client/session.pyc\u001b[0m in \u001b[0;36m_run_fn\u001b[0;34m(session, feed_dict, fetch_list, target_list, options, run_metadata)\u001b[0m\n\u001b[1;32m   1300\u001b[0m           return tf_session.TF_Run(session, options,\n\u001b[1;32m   1301\u001b[0m                                    \u001b[0mfeed_dict\u001b[0m\u001b[0;34m,\u001b[0m \u001b[0mfetch_list\u001b[0m\u001b[0;34m,\u001b[0m \u001b[0mtarget_list\u001b[0m\u001b[0;34m,\u001b[0m\u001b[0;34m\u001b[0m\u001b[0m\n\u001b[0;32m-> 1302\u001b[0;31m                                    status, run_metadata)\n\u001b[0m\u001b[1;32m   1303\u001b[0m \u001b[0;34m\u001b[0m\u001b[0m\n\u001b[1;32m   1304\u001b[0m     \u001b[0;32mdef\u001b[0m \u001b[0m_prun_fn\u001b[0m\u001b[0;34m(\u001b[0m\u001b[0msession\u001b[0m\u001b[0;34m,\u001b[0m \u001b[0mhandle\u001b[0m\u001b[0;34m,\u001b[0m \u001b[0mfeed_dict\u001b[0m\u001b[0;34m,\u001b[0m \u001b[0mfetch_list\u001b[0m\u001b[0;34m)\u001b[0m\u001b[0;34m:\u001b[0m\u001b[0;34m\u001b[0m\u001b[0m\n",
      "\u001b[0;31mKeyboardInterrupt\u001b[0m: "
     ]
    }
   ],
   "source": [
    "with tf.Session() as sess:\n",
    "    # The `Iterator.string_handle()` method returns a tensor that can be evaluated\n",
    "    # and used to feed the `handle` placeholder.\n",
    "    training_handle = sess.run(training_iterator.string_handle())\n",
    "    validation_handle = sess.run(validation_iterator.string_handle())\n",
    "    \n",
    "    for i in range(1):\n",
    "        sess.run(training_iterator.initializer)\n",
    "        while True:\n",
    "            try:\n",
    "                label_batch, image_batch = sess.run(next_element, feed_dict={handle: training_handle})\n",
    "                print(label_batch)\n",
    "            except tf.errors.OutOfRangeError:\n",
    "                print('Out of Data, Training Finished!')\n",
    "#             finally:\n",
    "#                 sess.run(validation_iterator.initializer)\n",
    "#                 sess.run(next_element, feed_dict={handle: validation_handle})\n",
    "#         if i%10==0:\n",
    "#             sess.run(validation_iterator.initializer)\n",
    "#             sess.run(next_element, feed_dict={handle: validation_handle})"
   ]
  },
  {
   "cell_type": "code",
   "execution_count": null,
   "metadata": {
    "collapsed": true,
    "deletable": true,
    "editable": true
   },
   "outputs": [],
   "source": []
  }
 ],
 "metadata": {
  "anaconda-cloud": {},
  "kernelspec": {
   "display_name": "github2.7",
   "language": "python",
   "name": "mygithub"
  },
  "language_info": {
   "codemirror_mode": {
    "name": "ipython",
    "version": 2
   },
   "file_extension": ".py",
   "mimetype": "text/x-python",
   "name": "python",
   "nbconvert_exporter": "python",
   "pygments_lexer": "ipython2",
   "version": "2.7.13"
  }
 },
 "nbformat": 4,
 "nbformat_minor": 2
}
